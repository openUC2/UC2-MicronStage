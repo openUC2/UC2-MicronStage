{
 "cells": [
  {
   "cell_type": "markdown",
   "metadata": {},
   "source": [
    "# Linewriter\n",
    "\n",
    "Program for controling of the xy arm moving with the laser."
   ]
  },
  {
   "cell_type": "code",
   "execution_count": null,
   "metadata": {},
   "outputs": [],
   "source": [
    "print(\"Programme started!\")\n",
    "import grbldriver as grbldriver # library for the xy arm\n",
    "\n",
    "port = \"/dev/cu.usbserial-141220\"\n",
    "board = grbldriver.GrblDriver(port)\n",
    "print(\"Board conected.\")\n",
    "\n",
    "board.write_global_config()\n",
    "board.reset_stage()\n",
    "# board.is_debug=True"
   ]
  },
  {
   "cell_type": "markdown",
   "metadata": {},
   "source": [
    "Even though i tried to calibrate the units, stil the units \n",
    "the machine gets are not the milimeteres, therefore there \n",
    "are those two functions"
   ]
  },
  {
   "cell_type": "code",
   "execution_count": null,
   "metadata": {},
   "outputs": [],
   "source": [
    "# help functions\n",
    "def mm2unit(valueInMM, conversion = 4.9):\n",
    "    return(valueInMM*conversion)\n",
    "\n",
    "def unit2mm(valueInUnit, conversion = 1/4.9):\n",
    "    return(valueInUnit*conversion)\n",
    "\n",
    "def writeLine(xPos, speed, intensity, home=True, doublepass = True):\n",
    "    \"\"\"\n",
    "    xPos - position from the edge of 20 mm cover slip, second cordinate is not needed since the waveguide is as long as the slip\n",
    "\n",
    "    speed - speed of the motor\n",
    "\n",
    "    intensity - int from 0 to 1024\n",
    "    \"\"\"\n",
    "    board.set_laser_intensity(0)\n",
    "    xInUnits = 112 - mm2unit(xPos)\n",
    "    board.move_abs((xInUnits, 283, 0), wait_until_done=True)\n",
    "    board.set_laser_intensity(intensity)\n",
    "    cmd = \"$111 = \" + str(speed)\n",
    "    board._write(command=cmd )\n",
    "    board.move_abs((xInUnits, 175, 0), wait_until_done=True)\n",
    "    if doublepass:\n",
    "        board.move_abs((xInUnits, 283, 0), wait_until_done=True)\n",
    "    board._write(command=\"$111 = 10.0\")\n",
    "    board.set_laser_intensity(0)\n",
    "    if home:\n",
    "        board.move_abs((0,0,0), wait_until_done=True)\n",
    "    else:\n",
    "        board.move_abs((xInUnits, 283, 0), wait_until_done=True)"
   ]
  },
  {
   "cell_type": "markdown",
   "metadata": {},
   "source": [
    "Board configuration\n"
   ]
  },
  {
   "cell_type": "code",
   "execution_count": null,
   "metadata": {},
   "outputs": [],
   "source": [
    "stpsmm = 16250\n",
    "\n",
    "board.xconfig ={\n",
    "            # 'steps/mm':360/1.8*diameter/2., #<--resolutoin\n",
    "            'steps/mm':stpsmm, #<--resolutoin\n",
    "            'mm/sec2': 100.0, #<--acceleration\n",
    "            'mm/min': 10 #<--max speed\n",
    "            }\n",
    "board.yconfig ={\n",
    "            'steps/mm':stpsmm, #<--resolutoin\n",
    "            'mm/sec2': 100.0, #<--acceleration\n",
    "            'mm/min': 10 #<--max speed\n",
    "            }\n",
    "\n",
    "print(\"Config saved\")\n",
    "board.write_all_settings()\n",
    "print(\"Config wrote\")"
   ]
  },
  {
   "cell_type": "code",
   "execution_count": null,
   "metadata": {},
   "outputs": [],
   "source": [
    "print(\"Homing .... \")\n",
    "# home\n",
    "board.move_rel((-1,-1,00), wait_until_done=True)\n",
    "board.zero_position()"
   ]
  },
  {
   "cell_type": "code",
   "execution_count": null,
   "metadata": {},
   "outputs": [],
   "source": [
    "# %% first try on 15.6.\n",
    "\"\"\"\n",
    "Spincoating params:\n",
    " - 5s with 1000 RPM\n",
    " - 25s with 6000 RPM\n",
    "\n",
    "Goal to achieve 25 micrometer thick layer\n",
    "\n",
    "Questions\n",
    "---------\n",
    "\n",
    " * Thickness of the layer? (really 50 microm)\n",
    " * Width of the structure? \n",
    "\n",
    "!!! Acetone from downstairs, fill some \n",
    "\n",
    "\"\"\"\n",
    "\n",
    "writeLine(3, 0.1, 2, home=False)\n",
    "writeLine(5, 0.2, 2, home=False)\n",
    "writeLine(5, 0.2, 2, home=False)\n",
    "writeLine(7, 0.5, 2, home=False)\n",
    "writeLine(9, 0.7, 2, home=False)\n",
    "writeLine(1, 1, 2, home=True)\n",
    "\n",
    "\"\"\"\n",
    "the second one worked\n",
    "\n",
    "but too wide\n",
    "\"\"\""
   ]
  },
  {
   "cell_type": "markdown",
   "metadata": {},
   "source": [
    "Multiple unsucsessfull versions. In the images is the first manufactured line on the right. \n",
    "```\n",
    "#%% second try\n",
    "\n",
    "writeLine(3, 0.1, 2, home=False)\n",
    "writeLine(5, 0.2, 2, home=False)\n",
    "writeLine(5, 0.2, 2, home=False)\n",
    "writeLine(9, 0.05, 2, home=False)\n",
    "writeLine(12, 0.1, 4)\n",
    "\n",
    "# nothing to be seen maybe at least two passes are needed\n",
    "```\n",
    "\n",
    "\n",
    "```\n",
    "#%% third try\n",
    "\n",
    "for i in range(3):\n",
    "    writeLine(3, 0.1, 2, home=False)\n",
    "    writeLine(5, 0.2, 2, home=False)\n",
    "    writeLine(5, 0.2, 2, home=False)\n",
    "    writeLine(9, 0.05, 2, home=False) # i like width of this one, so maybe try to use the same amount of energy but with slighltly different speeds \n",
    "    writeLine(12, 0.1, 4)\n",
    "\n",
    "# nothing to be seen maybe at least two passes are needed\n",
    "\n",
    "```\n",
    "\n",
    "\n",
    "```\n",
    "# %%Fourth try\n",
    "\n",
    "for i in range(3):\n",
    "    writeLine(3, 0.05*4, 2*4, home=False)\n",
    "    writeLine(5, 1, 10, home=False)\n",
    "    for j in range(4):\n",
    "        writeLine(7, 0.2*4, 2, home=False)\n",
    "        writeLine(10, 1, 2, home=False)\n",
    "\n",
    "```\n",
    "![Image of the fourth try](imgs/4_try.png)\n",
    "```\n",
    "# %%Fifth try\n",
    "\n",
    "\"\"\"\n",
    "fasteeeerrr!!!\n",
    "\"\"\"\n",
    "\n",
    "for i in range(3):\n",
    "    writeLine(4, 5, 50, home=False)\n",
    "    for j in range(4):\n",
    "        writeLine(7, 2, 2, home=False)\n",
    "        writeLine(10, 3, 2, home=False) # this one seems promissing! \n",
    "\n",
    "```\n",
    "\n",
    "```\n",
    "#%% sixth\n",
    "\n",
    "for i in range(12):\n",
    "    writeLine(2.5, 3, 2, home=False)\n",
    "    writeLine(5, 3, 2, home=False)\n",
    "    writeLine(7, 3, 2, home=False)\n",
    "    writeLine(10, 3, 2, home=False)\n",
    "\n",
    "```"
   ]
  },
  {
   "cell_type": "code",
   "execution_count": null,
   "metadata": {},
   "outputs": [],
   "source": [
    "speed = 6\n",
    "\n",
    "for i in range(12):\n",
    "    writeLine(2.5, speed, 2, home=False)\n",
    "    writeLine(5, speed, 2, home=False)\n",
    "    writeLine(7, speed, 2, home=False)\n",
    "    writeLine(10, speed, 2, home=False)\n",
    "    writeLine(12.5, speed*1.2, 2, home=False)\n",
    "\n",
    "\n",
    "writeLine(1,10,0, home=True)"
   ]
  },
  {
   "cell_type": "markdown",
   "metadata": {},
   "source": [
    "In the end was in addition to this code used following procedure:\n",
    "- 1k RPM for 10 s,\n",
    "- 6k RPM for 30 s,\n",
    "- laser,\n",
    "- acetone wash.\n",
    "\n",
    "Result of this parameteres could be seen in the following picture. First line is on the right.\n",
    "![lines on the glass](imgs/7_try.jpg)\n",
    "Still quite rough, but we will see the resultr from the Q-phase."
   ]
  },
  {
   "cell_type": "code",
   "execution_count": null,
   "metadata": {},
   "outputs": [],
   "source": []
  }
 ],
 "metadata": {
  "kernelspec": {
   "display_name": "Python 3",
   "language": "python",
   "name": "python3"
  },
  "language_info": {
   "codemirror_mode": {
    "name": "ipython",
    "version": 3
   },
   "file_extension": ".py",
   "mimetype": "text/x-python",
   "name": "python",
   "nbconvert_exporter": "python",
   "pygments_lexer": "ipython3",
   "version": "3.8.5"
  }
 },
 "nbformat": 4,
 "nbformat_minor": 4
}
